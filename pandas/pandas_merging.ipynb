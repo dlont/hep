import pandas as pd
import numpy as np
pd.set_option('display.max_rows', 100)

# Generate time ranges for two datasets
time_range1 = pd.date_range(start="2024-01-01 00:00", end="2024-01-01 01:00", freq="5min")
time_range2 = pd.date_range(start="2024-01-01 00:00", end="2024-01-01 01:00", freq="10min")

# Simulate random event rates and beam intensities
np.random.seed(42)  # For reproducibility
event_rates = np.random.poisson(lam=20, size=len(time_range1))  # Event rates every 5 minutes
beam_intensities = np.random.exponential(scale=0.5, size=len(time_range2))  # Beam intensity every 10 minutes

# Create two DataFrames for the two time-series
df_event_rates = pd.DataFrame({
    'Timestamp': time_range1,
    'Event Rate': event_rates
}).set_index('Timestamp')

df_beam_intensity = pd.DataFrame({
    'Timestamp': time_range2,
    'Beam Intensity': beam_intensities
}).set_index('Timestamp')

print("Event Rates DataFrame:")
print(df_event_rates.head())

print("\nBeam Intensity DataFrame:")
print(df_beam_intensity.head())

# 1. Merging DataFrames
# Merge event rates with beam intensity based on timestamp (outer merge to include all timestamps)
df_merged = pd.merge(df_event_rates, df_beam_intensity, left_index=True, right_index=True, how='outer')
print("\nDataFrame after merging event rates with beam intensity (outer merge):")
print(df_merged.head(100))

# 2. Joining DataFrames
# Let's join the DataFrames similar to an SQL operation (default is left join)
df_joined = df_event_rates.join(df_beam_intensity, how='left')
print("\nDataFrame after joining event rates with beam intensity (left join):")
print(df_joined.head(100))

# 3. Concatenation Methods
# Concatenate the DataFrames vertically (stacking rows) and horizontally (adding columns)
df_concat_vertical = pd.concat([df_event_rates, df_beam_intensity], axis=0)
df_concat_horizontal = pd.concat([df_event_rates, df_beam_intensity], axis=1)

print("\nDataFrame after vertical concatenation (stack rows):")
print(df_concat_vertical.head(100))

print("\nDataFrame after horizontal concatenation (add columns):")
print(df_concat_horizontal.head(100))
