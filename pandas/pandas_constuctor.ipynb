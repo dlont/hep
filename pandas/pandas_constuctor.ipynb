import pandas as pd
import numpy as np

data = [
    ['Electron', 0.1, 0.3, 0.4, 0.511],
    ['Muon', 50, 30, 80, 105.7],
    ['Photon', 150, 200, 100, 300],
]

# Create a pandas DataFrame using the list constructor
df = pd.DataFrame(data, columns=['Particle Type', 'px (GeV/c)', 'py (GeV/c)', 'pz (GeV/c)', 'Energy (GeV)'])

print("DataFrame from list")
print(df)

data = {
    'Particle Type': ['Electron', 'Muon', 'Photon'],
    'px (GeV/c)': [0.2, 55, 100],
    'py (GeV/c)': [0.5, 40, 200],
    'pz (GeV/c)': [0.4, 90, 300],
    'Energy (GeV)': [0.511, 123.4, 400]
}

# Create a pandas DataFrame using the dictionary constructor
df = pd.DataFrame(data)

# Display the DataFrame
print("DataFrame from dictionary")
print(df)

particle_types = np.array(['Electron', 'Muon', 'Photon', 'Electron', 'Muon', 'Photon'])
px = np.array([0.1, 50, 150, 0.2, 40, 120])      # px in GeV/c
py = np.array([0.3, 30, 200, 0.4, 35, 150])      # py in GeV/c
pz = np.array([0.4, 80, 100, 0.5, 70, 130])      # pz in GeV/c
energy = np.array([0.511, 105.7, 300, 0.511, 90, 270])  # Energy in GeV

# Creating a DataFrame using the numpy arrays
df = pd.DataFrame({
    'Particle Type': particle_types,
    'px (GeV/c)': px,
    'py (GeV/c)': py,
    'pz (GeV/c)': pz,
    'Energy (GeV)': energy
})

# Display the DataFrame
print("DataFrame from numpy")
print(df)