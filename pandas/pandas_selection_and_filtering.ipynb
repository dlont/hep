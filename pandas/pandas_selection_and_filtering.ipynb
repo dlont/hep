import pandas as pd

# Example DataFrame representing particle collision events
data = {
    'Particle': ['Electron', 'Muon', 'Photon', 'Muon'],
    'Energy': [0.511, 105.7, 0, 93.27],
    'px': [0.1, 50, 0.2, 10],
    'py': [0.2, 40, 0.1, 20],
    'pz': [0.3, 60, 0.05, 30]
}

df = pd.DataFrame(data)

print("Selecting specific columns using bracket notation")
energy_and_momentum = df[['Energy', 'px', 'py', 'pz']]
print(energy_and_momentum)

print("Selecting a single column using dot notation")
px_column = df.px
print(px_column)

print("Selecting specific rows by index (e.g., the first two events)")
first_two_events = df.iloc[:2]
print(first_two_events)

print("Boolean indexing to select particles with energy greater than 1 GeV")
high_energy_events = df[df['Energy'] > 1]
print(high_energy_events)

print("Boolean indexing to filter rows and select columns using loc[]")
high_energy_momentum = df.loc[df['Energy'] > 10]
print(high_energy_momentum)

print("Filtering for particles where px is greater than 10 GeV/c")
high_px_events = df[df['px'] > 10]
print(high_px_events)

print("Chaining boolean indexing and column selection to find high-energy events and show their momentum")
high_energy_momentum = df[df['Energy'] > 1][['px', 'py', 'pz']]
print(high_energy_momentum)

print("Chaining method to filter for particles with high energy and select specific rows using iloc")
selected_high_energy_events = df[df['Energy'] > 1].iloc[:3]
print(selected_high_energy_events)