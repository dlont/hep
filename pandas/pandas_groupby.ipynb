import pandas as pd

# Sample DataFrame representing particle collisions
data = {
    'Particle': ['Electron', 'Muon', 'Electron', 'Proton', 'Muon', 'Proton'],
    'Energy (GeV)': [0.511, 105.7, 0.511, 938.27, 106.2, 940.0],
    'px (GeV/c)': [0.1, 50, 0.12, 100, 49.5, 101],
    'py (GeV/c)': [0.2, 40, 0.15, 200, 39.8, 202],
    'pz (GeV/c)': [0.3, 60, 0.2, 300, 59.0, 305]
}

df = pd.DataFrame(data)

# Group by 'Particle' column
grouped = df.groupby('Particle')

# Perform aggregations (mean, sum, count) for energy and momentum columns
aggregated = grouped.agg({
    'Energy (GeV)': ['mean', 'sum'],
    'px (GeV/c)': ['mean', 'sum'],
    'py (GeV/c)': ['mean', 'sum'],
    'pz (GeV/c)': ['mean', 'sum'],
})

# Display the aggregated results
print("Aggregated DataFrame:")
print(aggregated)
