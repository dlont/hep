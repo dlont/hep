import pandas as pd

data_train = pd.read_csv('higgs-boson/training/training.csv')

print("Listing first top 5 rows:")
print(data_train.head())

print("Listing last bottom 5 rows:")
print(data_train.tail())

print("Descriptive statistics:")
print(data_train.describe())